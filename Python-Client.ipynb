{
 "cells": [
  {
   "cell_type": "code",
   "execution_count": 1,
   "id": "1d600e8c-b5a7-4f0d-a30b-f5a2e3bc33b2",
   "metadata": {
    "tags": []
   },
   "outputs": [],
   "source": [
    "import requests"
   ]
  },
  {
   "cell_type": "code",
   "execution_count": 2,
   "id": "11521a70-19bf-4e5a-8731-148b5f49da72",
   "metadata": {
    "tags": []
   },
   "outputs": [
    {
     "name": "stdout",
     "output_type": "stream",
     "text": [
      "b'<!doctype html>\\n<head>\\n    <title>Hello Azure - Python Quickstart</title>\\n    <link rel=\"stylesheet\" href=\"/static/bootstrap/css/bootstrap.min.css\">\\n    <link rel=\"shortcut icon\" href=\"/static/favicon.ico\">\\n</head>\\n<html>\\n   <body>\\n     <main>\\n        <div class=\"px-4 py-3 my-2 text-center\">\\n            <img class=\"d-block mx-auto mb-4\" src=\"/static/images/azure-icon.svg\" alt=\"Azure Logo\" width=\"192\" height=\"192\"/>\\n            <!-- <img  src=\"/docs/5.1/assets/brand/bootstrap-logo.svg\" alt=\"\" width=\"72\" height=\"57\"> -->\\n            <h1 class=\"display-6 fw-bold text-primary\">Welcome to Azure</h1>            \\n          </div>\\n        <form method=\"post\" action=\"/hello\">\\n            <div class=\"col-md-6 mx-auto text-center\">\\n                <label for=\"name\" class=\"form-label fw-bold fs-5\">Could you please tell me your name?</label>\\n\\n                <!-- <p class=\"lead mb-2\">Could you please tell me your name?</p> -->\\n                <div class=\"d-grid gap-2 d-sm-flex justify-content-sm-center align-items-center my-1\">\\n                    <input type=\"text\" class=\"form-control\" id=\"name\" name=\"name\" style=\"max-width: 256px;\">\\n                  </div>            \\n                <div class=\"d-grid gap-2 d-sm-flex justify-content-sm-center my-2\">\\n                  <button type=\"submit\" class=\"btn btn-primary btn-lg px-4 gap-3\">Say Hello</button>\\n                </div>            \\n            </div>\\n        </form>\\n     </main>      \\n   </body>\\n</html>'\n"
     ]
    }
   ],
   "source": [
    "url = \"http://localhost:5601\"\n",
    "response = requests.get(url)\n",
    "\n",
    "print(response.content)"
   ]
  },
  {
   "cell_type": "code",
   "execution_count": 3,
   "id": "ca07754d-cd5c-4cdd-aacf-29478cb2d4c1",
   "metadata": {
    "tags": []
   },
   "outputs": [
    {
     "name": "stdout",
     "output_type": "stream",
     "text": [
      "b'<!doctype html>\\n<head>\\n    <title>Hello Azure - Python Quickstart</title>\\n    <link rel=\"stylesheet\" href=\"/static/bootstrap/css/bootstrap.min.css\">\\n    <link rel=\"shortcut icon\" href=\"/static/favicon.ico\">\\n</head>\\n<html>\\n   <body>\\n     <main>\\n        <div class=\"px-4 py-3 my-2 text-center\">\\n            <img class=\"d-block mx-auto mb-4\" src=\"/static/images/azure-icon.svg\" alt=\"Azure Logo\" width=\"192\" height=\"192\"/>\\n            <!-- <img  src=\"/docs/5.1/assets/brand/bootstrap-logo.svg\" alt=\"\" width=\"72\" height=\"57\"> -->\\n            <h1 class=\"display-6 fw-bold text-primary\">Welcome to Azure</h1>            \\n          </div>\\n        <form method=\"post\" action=\"/hello\">\\n            <div class=\"col-md-6 mx-auto text-center\">\\n                <label for=\"name\" class=\"form-label fw-bold fs-5\">Could you please tell me your name?</label>\\n\\n                <!-- <p class=\"lead mb-2\">Could you please tell me your name?</p> -->\\n                <div class=\"d-grid gap-2 d-sm-flex justify-content-sm-center align-items-center my-1\">\\n                    <input type=\"text\" class=\"form-control\" id=\"name\" name=\"name\" style=\"max-width: 256px;\">\\n                  </div>            \\n                <div class=\"d-grid gap-2 d-sm-flex justify-content-sm-center my-2\">\\n                  <button type=\"submit\" class=\"btn btn-primary btn-lg px-4 gap-3\">Say Hello</button>\\n                </div>            \\n            </div>\\n        </form>\\n     </main>      \\n   </body>\\n</html>'\n"
     ]
    }
   ],
   "source": [
    "url = \"http://localhost:5601\"\n",
    "params = {'name': 'Prerit'}\n",
    "response = requests.get(url, params=params)\n",
    "\n",
    "print(response.content)"
   ]
  },
  {
   "cell_type": "code",
   "execution_count": 4,
   "id": "eefd5dd3-e768-4709-b623-434ce5851d87",
   "metadata": {
    "tags": []
   },
   "outputs": [
    {
     "name": "stdout",
     "output_type": "stream",
     "text": [
      "b'The Prime Minister of India in 2024 is Narendra Modi.'\n"
     ]
    }
   ],
   "source": [
    "url = \"http://localhost:5601/query\"\n",
    "\n",
    "params = {'text': 'who is prime minister of India in 2024?'}\n",
    "response = requests.get(url, params=params)\n",
    "\n",
    "print(response.content)"
   ]
  },
  {
   "cell_type": "code",
   "execution_count": 5,
   "id": "debff1c7-9a95-4345-bf7e-b2193bf3627b",
   "metadata": {},
   "outputs": [
    {
     "name": "stdout",
     "output_type": "stream",
     "text": [
      "b'SR Tendulkar (IND)'\n"
     ]
    }
   ],
   "source": [
    "url = \"http://localhost:5601/query\"\n",
    "\n",
    "params = {'text': 'who scored highest runs?'}\n",
    "response = requests.get(url, params=params)\n",
    "\n",
    "print(response.content)"
   ]
  },
  {
   "cell_type": "code",
   "execution_count": 6,
   "id": "9d7ba536-bb4a-44f9-9e2b-e75e083af611",
   "metadata": {
    "tags": []
   },
   "outputs": [
    {
     "name": "stdout",
     "output_type": "stream",
     "text": [
      "b'AN Cook (ENG)'\n"
     ]
    }
   ],
   "source": [
    "url = \"http://localhost:5601/query\"\n",
    "\n",
    "params = {'text': 'who scored most runs for England?'}\n",
    "response = requests.get(url, params=params)\n",
    "\n",
    "print(response.content)"
   ]
  },
  {
   "cell_type": "code",
   "execution_count": 2,
   "id": "87286402-47a4-4c3d-9b5d-da871299fcfd",
   "metadata": {
    "tags": []
   },
   "outputs": [
    {
     "name": "stdout",
     "output_type": "stream",
     "text": [
      "b'<!doctype html>\\n<head>\\n    <title>Hello Azure - Python Quickstart</title>\\n    <link rel=\"stylesheet\" href=\"/static/bootstrap/css/bootstrap.min.css\">\\n    <link rel=\"shortcut icon\" href=\"/static/favicon.ico\">\\n</head>\\n<html>\\n   <body>\\n     <main>\\n        <div class=\"px-4 py-3 my-2 text-center\">\\n            <img class=\"d-block mx-auto mb-4\" src=\"/static/images/azure-icon.svg\" alt=\"Azure Logo\" width=\"192\" height=\"192\"/>\\n            <!-- <img  src=\"/docs/5.1/assets/brand/bootstrap-logo.svg\" alt=\"\" width=\"72\" height=\"57\"> -->\\n            <h1 class=\"display-6 fw-bold text-primary\">Welcome to Azure</h1>            \\n          </div>\\n        <form method=\"post\" action=\"/hello\">\\n            <div class=\"col-md-6 mx-auto text-center\">\\n                <label for=\"name\" class=\"form-label fw-bold fs-5\">Could you please tell me your name?</label>\\n\\n                <!-- <p class=\"lead mb-2\">Could you please tell me your name?</p> -->\\n                <div class=\"d-grid gap-2 d-sm-flex justify-content-sm-center align-items-center my-1\">\\n                    <input type=\"text\" class=\"form-control\" id=\"name\" name=\"name\" style=\"max-width: 256px;\">\\n                  </div>            \\n                <div class=\"d-grid gap-2 d-sm-flex justify-content-sm-center my-2\">\\n                  <button type=\"submit\" class=\"btn btn-primary btn-lg px-4 gap-3\">Say Hello</button>\\n                </div>            \\n            </div>\\n        </form>\\n     </main>      \\n   </body>\\n</html>'\n"
     ]
    }
   ],
   "source": [
    "url = \"https://rag-external-web-pandas.azurewebsites.net\"\n",
    "response = requests.get(url)\n",
    "\n",
    "print(response.content)"
   ]
  },
  {
   "cell_type": "code",
   "execution_count": 3,
   "id": "132f36b1-b0a6-4fd1-b9b2-dccb28905769",
   "metadata": {},
   "outputs": [
    {
     "name": "stdout",
     "output_type": "stream",
     "text": [
      "b'<!doctype html>\\n<html lang=en>\\n<title>500 Internal Server Error</title>\\n<h1>Internal Server Error</h1>\\n<p>The server encountered an internal error and was unable to complete your request. Either the server is overloaded or there is an error in the application.</p>\\n'\n"
     ]
    }
   ],
   "source": [
    "url = \"https://rag-external-web-pandas.azurewebsites.net/query\"\n",
    "\n",
    "params = {'text': 'who is prime minister of India in 2024?'}\n",
    "response = requests.get(url, params=params)\n",
    "\n",
    "print(response.content)"
   ]
  },
  {
   "cell_type": "code",
   "execution_count": 5,
   "id": "a90d909c-aecd-41b4-be5b-0bbceafce82d",
   "metadata": {},
   "outputs": [
    {
     "name": "stdout",
     "output_type": "stream",
     "text": [
      "b'<!doctype html>\\n<head>\\n    <title>Hello Azure - Python Quickstart</title>\\n    <link rel=\"stylesheet\" href=\"/static/bootstrap/css/bootstrap.min.css\">\\n    <link rel=\"shortcut icon\" href=\"/static/favicon.ico\">\\n</head>\\n<html>\\n   <body>\\n     <main>\\n        <div class=\"px-4 py-3 my-2 text-center\">\\n            <img class=\"d-block mx-auto mb-4\" src=\"/static/images/azure-icon.svg\" alt=\"Azure Logo\" width=\"192\" height=\"192\"/>\\n            <!-- <img  src=\"/docs/5.1/assets/brand/bootstrap-logo.svg\" alt=\"\" width=\"72\" height=\"57\"> -->\\n            <h1 class=\"display-6 fw-bold text-primary\">Welcome to Azure</h1>            \\n          </div>\\n        <form method=\"post\" action=\"/hello\">\\n            <div class=\"col-md-6 mx-auto text-center\">\\n                <label for=\"name\" class=\"form-label fw-bold fs-5\">Could you please tell me your name?</label>\\n\\n                <!-- <p class=\"lead mb-2\">Could you please tell me your name?</p> -->\\n                <div class=\"d-grid gap-2 d-sm-flex justify-content-sm-center align-items-center my-1\">\\n                    <input type=\"text\" class=\"form-control\" id=\"name\" name=\"name\" style=\"max-width: 256px;\">\\n                  </div>            \\n                <div class=\"d-grid gap-2 d-sm-flex justify-content-sm-center my-2\">\\n                  <button type=\"submit\" class=\"btn btn-primary btn-lg px-4 gap-3\">Say Hello</button>\\n                </div>            \\n            </div>\\n        </form>\\n     </main>      \\n   </body>\\n</html>'\n"
     ]
    }
   ],
   "source": [
    "url = \"http://localhost:5000\"\n",
    "response = requests.get(url)\n",
    "\n",
    "print(response.content)"
   ]
  },
  {
   "cell_type": "code",
   "execution_count": 6,
   "id": "721f7cac-6e9f-45b6-8d87-da01c7841802",
   "metadata": {
    "tags": []
   },
   "outputs": [
    {
     "name": "stdout",
     "output_type": "stream",
     "text": [
      "b'AN Cook (ENG)'\n"
     ]
    }
   ],
   "source": [
    "url = \"http://localhost:5000/query\"\n",
    "\n",
    "params = {'text': 'who scored most runs for England?'}\n",
    "response = requests.get(url, params=params)\n",
    "\n",
    "print(response.content)"
   ]
  },
  {
   "cell_type": "code",
   "execution_count": 2,
   "id": "d1ce67e8-6ed8-48f2-be33-c666440380e6",
   "metadata": {
    "tags": []
   },
   "outputs": [
    {
     "name": "stdout",
     "output_type": "stream",
     "text": [
      "b'The Prime Minister of India in 2024 is Narendra Modi.'\n"
     ]
    }
   ],
   "source": [
    "url = \"https://rag-demo-experiment.azurewebsites.net/query\"\n",
    "\n",
    "params = {'text': 'who is prime minister of India in 2024?'}\n",
    "response = requests.get(url, params=params)\n",
    "\n",
    "print(response.content)"
   ]
  },
  {
   "cell_type": "code",
   "execution_count": 4,
   "id": "581bba03-4a19-4d14-b701-1492ea0a41d4",
   "metadata": {},
   "outputs": [
    {
     "name": "stdout",
     "output_type": "stream",
     "text": [
      "b'SR Tendulkar (IND)'\n"
     ]
    }
   ],
   "source": [
    "url = \"https://rag-demo-experiment.azurewebsites.net/query\"\n",
    "\n",
    "params = {'text': 'who scored highest runs?'}\n",
    "response = requests.get(url, params=params)\n",
    "\n",
    "print(response.content)"
   ]
  },
  {
   "cell_type": "code",
   "execution_count": 5,
   "id": "908ae5f4-d3e2-4ebf-ade8-9383eea592da",
   "metadata": {},
   "outputs": [
    {
     "name": "stdout",
     "output_type": "stream",
     "text": [
      "b'The Prime Minister of India in 1996 was Devegowda.'\n"
     ]
    }
   ],
   "source": [
    "url = \"https://rag-demo-experiment.azurewebsites.net/query\"\n",
    "\n",
    "params = {'text': 'who is prime minister of India in 1996?'}\n",
    "response = requests.get(url, params=params)\n",
    "\n",
    "print(response.content)"
   ]
  },
  {
   "cell_type": "code",
   "execution_count": 6,
   "id": "1172aa54-9361-4c77-9c2a-accab70813b4",
   "metadata": {},
   "outputs": [
    {
     "name": "stdout",
     "output_type": "stream",
     "text": [
      "b'The context information does not provide the name of the Prime Minister of India in the year 2000.'\n"
     ]
    }
   ],
   "source": [
    "url = \"https://rag-demo-experiment.azurewebsites.net/query\"\n",
    "\n",
    "params = {'text': 'who is prime minister of India in 2000?'}\n",
    "response = requests.get(url, params=params)\n",
    "\n",
    "print(response.content)"
   ]
  },
  {
   "cell_type": "code",
   "execution_count": 1,
   "id": "0096a646-1a04-4bc0-9e27-27ef91d719e6",
   "metadata": {
    "tags": []
   },
   "outputs": [
    {
     "name": "stdout",
     "output_type": "stream",
     "text": [
      "Collecting twilio\n",
      "  Downloading twilio-9.2.3-py2.py3-none-any.whl (1.8 MB)\n",
      "\u001b[2K     \u001b[90m━━━━━━━━━━━━━━━━━━━━━━━━━━━━━━━━━━━━━━━━\u001b[0m \u001b[32m1.8/1.8 MB\u001b[0m \u001b[31m24.7 MB/s\u001b[0m eta \u001b[36m0:00:00\u001b[0m00:01\u001b[0m00:01\u001b[0m\n",
      "\u001b[?25hCollecting aiohttp>=3.8.4\n",
      "  Downloading aiohttp-3.10.0-cp38-cp38-manylinux_2_17_x86_64.manylinux2014_x86_64.whl (1.3 MB)\n",
      "\u001b[2K     \u001b[90m━━━━━━━━━━━━━━━━━━━━━━━━━━━━━━━━━━━━━━━━\u001b[0m \u001b[32m1.3/1.3 MB\u001b[0m \u001b[31m54.3 MB/s\u001b[0m eta \u001b[36m0:00:00\u001b[0m\n",
      "\u001b[?25hCollecting aiohttp-retry>=2.8.3\n",
      "  Downloading aiohttp_retry-2.8.3-py3-none-any.whl (9.8 kB)\n",
      "Requirement already satisfied: requests>=2.0.0 in /opt/conda/lib/python3.8/site-packages (from twilio) (2.28.2)\n",
      "Requirement already satisfied: PyJWT<3.0.0,>=2.0.0 in /opt/conda/lib/python3.8/site-packages (from twilio) (2.6.0)\n",
      "Collecting async-timeout<5.0,>=4.0\n",
      "  Using cached async_timeout-4.0.3-py3-none-any.whl (5.7 kB)\n",
      "Collecting yarl<2.0,>=1.0\n",
      "  Using cached yarl-1.9.4-cp38-cp38-manylinux_2_17_x86_64.manylinux2014_x86_64.whl (308 kB)\n",
      "Collecting aiosignal>=1.1.2\n",
      "  Using cached aiosignal-1.3.1-py3-none-any.whl (7.6 kB)\n",
      "Collecting multidict<7.0,>=4.5\n",
      "  Using cached multidict-6.0.5-cp38-cp38-manylinux_2_17_x86_64.manylinux2014_x86_64.whl (129 kB)\n",
      "Collecting aiohappyeyeballs>=2.3.0\n",
      "  Downloading aiohappyeyeballs-2.3.2-py3-none-any.whl (11 kB)\n",
      "Collecting frozenlist>=1.1.1\n",
      "  Using cached frozenlist-1.4.1-cp38-cp38-manylinux_2_5_x86_64.manylinux1_x86_64.manylinux_2_17_x86_64.manylinux2014_x86_64.whl (240 kB)\n",
      "Requirement already satisfied: attrs>=17.3.0 in /opt/conda/lib/python3.8/site-packages (from aiohttp>=3.8.4->twilio) (21.4.0)\n",
      "Requirement already satisfied: urllib3<1.27,>=1.21.1 in /opt/conda/lib/python3.8/site-packages (from requests>=2.0.0->twilio) (1.26.8)\n",
      "Requirement already satisfied: idna<4,>=2.5 in /opt/conda/lib/python3.8/site-packages (from requests>=2.0.0->twilio) (3.3)\n",
      "Requirement already satisfied: charset-normalizer<4,>=2 in /opt/conda/lib/python3.8/site-packages (from requests>=2.0.0->twilio) (2.0.12)\n",
      "Requirement already satisfied: certifi>=2017.4.17 in /opt/conda/lib/python3.8/site-packages (from requests>=2.0.0->twilio) (2021.10.8)\n",
      "Installing collected packages: multidict, frozenlist, async-timeout, aiohappyeyeballs, yarl, aiosignal, aiohttp, aiohttp-retry, twilio\n",
      "Successfully installed aiohappyeyeballs-2.3.2 aiohttp-3.10.0 aiohttp-retry-2.8.3 aiosignal-1.3.1 async-timeout-4.0.3 frozenlist-1.4.1 multidict-6.0.5 twilio-9.2.3 yarl-1.9.4\n",
      "\n",
      "\u001b[1m[\u001b[0m\u001b[34;49mnotice\u001b[0m\u001b[1;39;49m]\u001b[0m\u001b[39;49m A new release of pip is available: \u001b[0m\u001b[31;49m23.0.1\u001b[0m\u001b[39;49m -> \u001b[0m\u001b[32;49m24.2\u001b[0m\n",
      "\u001b[1m[\u001b[0m\u001b[34;49mnotice\u001b[0m\u001b[1;39;49m]\u001b[0m\u001b[39;49m To update, run: \u001b[0m\u001b[32;49mpip install --upgrade pip\u001b[0m\n"
     ]
    }
   ],
   "source": [
    "!pip install twilio"
   ]
  },
  {
   "cell_type": "code",
   "execution_count": null,
   "id": "7ce23913-150e-4da5-a4f9-03f946973ef9",
   "metadata": {},
   "outputs": [],
   "source": []
  },
  {
   "cell_type": "code",
   "execution_count": null,
   "id": "1684f69c-286f-456b-b350-e613eaac580b",
   "metadata": {},
   "outputs": [],
   "source": []
  }
 ],
 "metadata": {
  "kernelspec": {
   "display_name": "Python 3",
   "language": "python",
   "name": "python3"
  },
  "language_info": {
   "codemirror_mode": {
    "name": "ipython",
    "version": 3
   },
   "file_extension": ".py",
   "mimetype": "text/x-python",
   "name": "python",
   "nbconvert_exporter": "python",
   "pygments_lexer": "ipython3",
   "version": "3.8.10"
  }
 },
 "nbformat": 4,
 "nbformat_minor": 5
}
